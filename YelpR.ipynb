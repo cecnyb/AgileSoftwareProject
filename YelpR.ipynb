{
  "cells": [
    {
      "cell_type": "markdown",
      "metadata": {
        "id": "view-in-github",
        "colab_type": "text"
      },
      "source": [
        "<a href=\"https://colab.research.google.com/github/cecnyb/AgileSoftwareProject/blob/main/YelpR.ipynb\" target=\"_parent\"><img src=\"https://colab.research.google.com/assets/colab-badge.svg\" alt=\"Open In Colab\"/></a>"
      ]
    },
    {
      "cell_type": "markdown",
      "metadata": {
        "id": "e82pk4_atgdF"
      },
      "source": [
        "#Group X Yelp R\n",
        "\n"
      ]
    },
    {
      "cell_type": "markdown",
      "metadata": {
        "id": "jsGD3ekitk4G"
      },
      "source": [
        "## Members of group:\n",
        "*   Wilhelm JOHNSON SWEGMARK\n",
        "*   Emelie LÖFGREN\n",
        "*   Karin NORBERG\n",
        "*   Frida SJÖGREN"
      ]
    },
    {
      "cell_type": "markdown",
      "metadata": {
        "id": "hLnq2pu9uVyk"
      },
      "source": [
        "##Preliminary analysis"
      ]
    },
    {
      "cell_type": "markdown",
      "metadata": {
        "id": "zSDaeLN2FNFB"
      },
      "source": [
        "* **What type of documents does it contain?** \\\\\n",
        "The data set is a large collection of product reviews with ratings. Each document contains two fields, that is the review and its corresponding star rating. The text reviews are presented in double quotes ('') and if there is any internal quotes they are inside two double quotes (\"\"). The corresponding label are the score connected to the review (between 1 and 5).  \n",
        "\n",
        "* **How many documents are there?** \\\\\n",
        "According to https://huggingface.co/datasets/yelp_review_full, the Yelp reviews full star dataset is constructed by randomly taking 130,000 training samples and 10,000 testing samples for each review star from 1 to 5. This results in a total of 650,000 trainig samples and 50,000 testing samples. And hence in total we have 700,000 reviews.\n",
        "\n",
        "\n",
        "* **Calculate and visualise some simple statistics for the collection, e.g. the average document length, the average vocabulary size, etc.**\n"
      ]
    },
    {
      "cell_type": "code",
      "execution_count": null,
      "metadata": {
        "id": "Y65Xi09-yCOv"
      },
      "outputs": [],
      "source": [
        "import pandas as pd\n",
        "import re\n",
        "from nltk.corpus import stopwords\n",
        "from nltk.tokenize import word_tokenize\n",
        "import nltk\n",
        "import matplotlib.pyplot as plt\n",
        "import string"
      ]
    },
    {
      "cell_type": "code",
      "execution_count": 2,
      "metadata": {
        "colab": {
          "base_uri": "https://localhost:8080/",
          "height": 1000,
          "referenced_widgets": [
            "043223cfde5046e69ed2a74227947861",
            "3e9a8f7178224396b7c0eb11cd9532b0",
            "8e678590a965489dbf00d9432eba9fcc",
            "6b32d7ccc70c4a028b0ade24fe2d47cb",
            "b9192ba414624a1eae5f815add30ea8b"
          ]
        },
        "id": "FqYjLISuwt1A",
        "outputId": "8e731a02-446f-4f12-e413-96260893eeec"
      },
      "outputs": [
        {
          "metadata": {
            "tags": null
          },
          "name": "stdout",
          "output_type": "stream",
          "text": [
            "Collecting datasets\n",
            "  Downloading datasets-2.19.1-py3-none-any.whl (542 kB)\n",
            "\u001b[2K     \u001b[90m━━━━━━━━━━━━━━━━━━━━━━━━━━━━━━━━━━━━━━━━\u001b[0m \u001b[32m542.0/542.0 kB\u001b[0m \u001b[31m7.0 MB/s\u001b[0m eta \u001b[36m0:00:00\u001b[0m\n",
            "\u001b[?25hRequirement already satisfied: filelock in /usr/local/lib/python3.10/dist-packages (from datasets) (3.14.0)\n",
            "Requirement already satisfied: numpy>=1.17 in /usr/local/lib/python3.10/dist-packages (from datasets) (1.25.2)\n",
            "Requirement already satisfied: pyarrow>=12.0.0 in /usr/local/lib/python3.10/dist-packages (from datasets) (14.0.2)\n",
            "Requirement already satisfied: pyarrow-hotfix in /usr/local/lib/python3.10/dist-packages (from datasets) (0.6)\n",
            "Collecting dill<0.3.9,>=0.3.0 (from datasets)\n",
            "  Downloading dill-0.3.8-py3-none-any.whl (116 kB)\n",
            "\u001b[2K     \u001b[90m━━━━━━━━━━━━━━━━━━━━━━━━━━━━━━━━━━━━━━━━\u001b[0m \u001b[32m116.3/116.3 kB\u001b[0m \u001b[31m6.8 MB/s\u001b[0m eta \u001b[36m0:00:00\u001b[0m\n",
            "\u001b[?25hRequirement already satisfied: pandas in /usr/local/lib/python3.10/dist-packages (from datasets) (2.0.3)\n",
            "Requirement already satisfied: requests>=2.19.0 in /usr/local/lib/python3.10/dist-packages (from datasets) (2.31.0)\n",
            "Requirement already satisfied: tqdm>=4.62.1 in /usr/local/lib/python3.10/dist-packages (from datasets) (4.66.2)\n",
            "Collecting xxhash (from datasets)\n",
            "  Downloading xxhash-3.4.1-cp310-cp310-manylinux_2_17_x86_64.manylinux2014_x86_64.whl (194 kB)\n",
            "\u001b[2K     \u001b[90m━━━━━━━━━━━━━━━━━━━━━━━━━━━━━━━━━━━━━━━━\u001b[0m \u001b[32m194.1/194.1 kB\u001b[0m \u001b[31m8.4 MB/s\u001b[0m eta \u001b[36m0:00:00\u001b[0m\n",
            "\u001b[?25hCollecting multiprocess (from datasets)\n",
            "  Downloading multiprocess-0.70.16-py310-none-any.whl (134 kB)\n",
            "\u001b[2K     \u001b[90m━━━━━━━━━━━━━━━━━━━━━━━━━━━━━━━━━━━━━━━━\u001b[0m \u001b[32m134.8/134.8 kB\u001b[0m \u001b[31m8.4 MB/s\u001b[0m eta \u001b[36m0:00:00\u001b[0m\n",
            "\u001b[?25hRequirement already satisfied: fsspec[http]<=2024.3.1,>=2023.1.0 in /usr/local/lib/python3.10/dist-packages (from datasets) (2023.6.0)\n",
            "Requirement already satisfied: aiohttp in /usr/local/lib/python3.10/dist-packages (from datasets) (3.9.5)\n",
            "Collecting huggingface-hub>=0.21.2 (from datasets)\n",
            "  Downloading huggingface_hub-0.23.0-py3-none-any.whl (401 kB)\n",
            "\u001b[2K     \u001b[90m━━━━━━━━━━━━━━━━━━━━━━━━━━━━━━━━━━━━━━━━\u001b[0m \u001b[32m401.2/401.2 kB\u001b[0m \u001b[31m12.6 MB/s\u001b[0m eta \u001b[36m0:00:00\u001b[0m\n",
            "\u001b[?25hRequirement already satisfied: packaging in /usr/local/lib/python3.10/dist-packages (from datasets) (24.0)\n",
            "Requirement already satisfied: pyyaml>=5.1 in /usr/local/lib/python3.10/dist-packages (from datasets) (6.0.1)\n",
            "Requirement already satisfied: aiosignal>=1.1.2 in /usr/local/lib/python3.10/dist-packages (from aiohttp->datasets) (1.3.1)\n",
            "Requirement already satisfied: attrs>=17.3.0 in /usr/local/lib/python3.10/dist-packages (from aiohttp->datasets) (23.2.0)\n",
            "Requirement already satisfied: frozenlist>=1.1.1 in /usr/local/lib/python3.10/dist-packages (from aiohttp->datasets) (1.4.1)\n",
            "Requirement already satisfied: multidict<7.0,>=4.5 in /usr/local/lib/python3.10/dist-packages (from aiohttp->datasets) (6.0.5)\n",
            "Requirement already satisfied: yarl<2.0,>=1.0 in /usr/local/lib/python3.10/dist-packages (from aiohttp->datasets) (1.9.4)\n",
            "Requirement already satisfied: async-timeout<5.0,>=4.0 in /usr/local/lib/python3.10/dist-packages (from aiohttp->datasets) (4.0.3)\n",
            "Requirement already satisfied: typing-extensions>=3.7.4.3 in /usr/local/lib/python3.10/dist-packages (from huggingface-hub>=0.21.2->datasets) (4.11.0)\n",
            "Requirement already satisfied: charset-normalizer<4,>=2 in /usr/local/lib/python3.10/dist-packages (from requests>=2.19.0->datasets) (3.3.2)\n",
            "Requirement already satisfied: idna<4,>=2.5 in /usr/local/lib/python3.10/dist-packages (from requests>=2.19.0->datasets) (3.7)\n",
            "Requirement already satisfied: urllib3<3,>=1.21.1 in /usr/local/lib/python3.10/dist-packages (from requests>=2.19.0->datasets) (2.0.7)\n",
            "Requirement already satisfied: certifi>=2017.4.17 in /usr/local/lib/python3.10/dist-packages (from requests>=2.19.0->datasets) (2024.2.2)\n",
            "Requirement already satisfied: python-dateutil>=2.8.2 in /usr/local/lib/python3.10/dist-packages (from pandas->datasets) (2.8.2)\n",
            "Requirement already satisfied: pytz>=2020.1 in /usr/local/lib/python3.10/dist-packages (from pandas->datasets) (2023.4)\n",
            "Requirement already satisfied: tzdata>=2022.1 in /usr/local/lib/python3.10/dist-packages (from pandas->datasets) (2024.1)\n",
            "Requirement already satisfied: six>=1.5 in /usr/local/lib/python3.10/dist-packages (from python-dateutil>=2.8.2->pandas->datasets) (1.16.0)\n",
            "Installing collected packages: xxhash, dill, multiprocess, huggingface-hub, datasets\n",
            "  Attempting uninstall: huggingface-hub\n",
            "    Found existing installation: huggingface-hub 0.20.3\n",
            "    Uninstalling huggingface-hub-0.20.3:\n",
            "      Successfully uninstalled huggingface-hub-0.20.3\n",
            "Successfully installed datasets-2.19.1 dill-0.3.8 huggingface-hub-0.23.0 multiprocess-0.70.16 xxhash-3.4.1\n"
          ]
        },
        {
          "metadata": {
            "tags": null
          },
          "name": "stderr",
          "output_type": "stream",
          "text": [
            "/usr/local/lib/python3.10/dist-packages/huggingface_hub/utils/_token.py:89: UserWarning: \n",
            "The secret `HF_TOKEN` does not exist in your Colab secrets.\n",
            "To authenticate with the Hugging Face Hub, create a token in your settings tab (https://huggingface.co/settings/tokens), set it as secret in your Google Colab and restart your session.\n",
            "You will be able to reuse this secret in all of your notebooks.\n",
            "Please note that authentication is recommended but still optional to access public models or datasets.\n",
            "  warnings.warn(\n"
          ]
        },
        {
          "data": {
            "application/vnd.jupyter.widget-view+json": {
              "model_id": "043223cfde5046e69ed2a74227947861",
              "version_major": 2,
              "version_minor": 0
            },
            "text/plain": [
              "Downloading readme:   0%|          | 0.00/6.72k [00:00<?, ?B/s]"
            ]
          },
          "metadata": {},
          "output_type": "display_data"
        },
        {
          "data": {
            "application/vnd.jupyter.widget-view+json": {
              "model_id": "3e9a8f7178224396b7c0eb11cd9532b0",
              "version_major": 2,
              "version_minor": 0
            },
            "text/plain": [
              "Downloading data:   0%|          | 0.00/299M [00:00<?, ?B/s]"
            ]
          },
          "metadata": {},
          "output_type": "display_data"
        },
        {
          "data": {
            "application/vnd.jupyter.widget-view+json": {
              "model_id": "8e678590a965489dbf00d9432eba9fcc",
              "version_major": 2,
              "version_minor": 0
            },
            "text/plain": [
              "Downloading data:   0%|          | 0.00/23.5M [00:00<?, ?B/s]"
            ]
          },
          "metadata": {},
          "output_type": "display_data"
        },
        {
          "data": {
            "application/vnd.jupyter.widget-view+json": {
              "model_id": "6b32d7ccc70c4a028b0ade24fe2d47cb",
              "version_major": 2,
              "version_minor": 0
            },
            "text/plain": [
              "Generating train split:   0%|          | 0/650000 [00:00<?, ? examples/s]"
            ]
          },
          "metadata": {},
          "output_type": "display_data"
        },
        {
          "data": {
            "application/vnd.jupyter.widget-view+json": {
              "model_id": "b9192ba414624a1eae5f815add30ea8b",
              "version_major": 2,
              "version_minor": 0
            },
            "text/plain": [
              "Generating test split:   0%|          | 0/50000 [00:00<?, ? examples/s]"
            ]
          },
          "metadata": {},
          "output_type": "display_data"
        }
      ],
      "source": [
        "!pip install datasets\n",
        "from datasets import load_dataset\n",
        "\n",
        "dataset = load_dataset(\"yelp_review_full\")"
      ]
    },
    {
      "cell_type": "code",
      "execution_count": 3,
      "metadata": {
        "id": "MDAzCCkIxQh_",
        "colab": {
          "base_uri": "https://localhost:8080/"
        },
        "outputId": "8ffd26f8-1487-4a99-f5e2-ccf7ab1d5220"
      },
      "outputs": [
        {
          "data": {
            "text/plain": [
              "DatasetDict({\n",
              "    train: Dataset({\n",
              "        features: ['label', 'text'],\n",
              "        num_rows: 650000\n",
              "    })\n",
              "    test: Dataset({\n",
              "        features: ['label', 'text'],\n",
              "        num_rows: 50000\n",
              "    })\n",
              "})"
            ]
          },
          "execution_count": 3,
          "metadata": {},
          "output_type": "execute_result"
        }
      ],
      "source": [
        "dataset"
      ]
    },
    {
      "cell_type": "code",
      "execution_count": 4,
      "metadata": {
        "id": "5bsvnYTTx5CS"
      },
      "outputs": [],
      "source": [
        "train_df = pd.DataFrame(dataset[\"train\"])\n",
        "test_df = pd.DataFrame(dataset[\"test\"])"
      ]
    },
    {
      "cell_type": "code",
      "execution_count": null,
      "metadata": {
        "id": "fO1FizPIzNPO",
        "colab": {
          "base_uri": "https://localhost:8080/",
          "height": 206
        },
        "outputId": "d30230ac-505b-43b5-a3c6-a73b45eb9dc9"
      },
      "outputs": [
        {
          "output_type": "execute_result",
          "data": {
            "text/plain": [
              "   label                                               text\n",
              "0      4  dr. goldberg offers everything i look for in a...\n",
              "1      1  Unfortunately, the frustration of being Dr. Go...\n",
              "2      3  Been going to Dr. Goldberg for over 10 years. ...\n",
              "3      3  Got a letter in the mail last week that said D...\n",
              "4      0  I don't know what Dr. Goldberg was like before..."
            ],
            "text/html": [
              "\n",
              "  <div id=\"df-38552ae8-1e4a-4272-8015-07e13ff7827f\" class=\"colab-df-container\">\n",
              "    <div>\n",
              "<style scoped>\n",
              "    .dataframe tbody tr th:only-of-type {\n",
              "        vertical-align: middle;\n",
              "    }\n",
              "\n",
              "    .dataframe tbody tr th {\n",
              "        vertical-align: top;\n",
              "    }\n",
              "\n",
              "    .dataframe thead th {\n",
              "        text-align: right;\n",
              "    }\n",
              "</style>\n",
              "<table border=\"1\" class=\"dataframe\">\n",
              "  <thead>\n",
              "    <tr style=\"text-align: right;\">\n",
              "      <th></th>\n",
              "      <th>label</th>\n",
              "      <th>text</th>\n",
              "    </tr>\n",
              "  </thead>\n",
              "  <tbody>\n",
              "    <tr>\n",
              "      <th>0</th>\n",
              "      <td>4</td>\n",
              "      <td>dr. goldberg offers everything i look for in a...</td>\n",
              "    </tr>\n",
              "    <tr>\n",
              "      <th>1</th>\n",
              "      <td>1</td>\n",
              "      <td>Unfortunately, the frustration of being Dr. Go...</td>\n",
              "    </tr>\n",
              "    <tr>\n",
              "      <th>2</th>\n",
              "      <td>3</td>\n",
              "      <td>Been going to Dr. Goldberg for over 10 years. ...</td>\n",
              "    </tr>\n",
              "    <tr>\n",
              "      <th>3</th>\n",
              "      <td>3</td>\n",
              "      <td>Got a letter in the mail last week that said D...</td>\n",
              "    </tr>\n",
              "    <tr>\n",
              "      <th>4</th>\n",
              "      <td>0</td>\n",
              "      <td>I don't know what Dr. Goldberg was like before...</td>\n",
              "    </tr>\n",
              "  </tbody>\n",
              "</table>\n",
              "</div>\n",
              "    <div class=\"colab-df-buttons\">\n",
              "\n",
              "  <div class=\"colab-df-container\">\n",
              "    <button class=\"colab-df-convert\" onclick=\"convertToInteractive('df-38552ae8-1e4a-4272-8015-07e13ff7827f')\"\n",
              "            title=\"Convert this dataframe to an interactive table.\"\n",
              "            style=\"display:none;\">\n",
              "\n",
              "  <svg xmlns=\"http://www.w3.org/2000/svg\" height=\"24px\" viewBox=\"0 -960 960 960\">\n",
              "    <path d=\"M120-120v-720h720v720H120Zm60-500h600v-160H180v160Zm220 220h160v-160H400v160Zm0 220h160v-160H400v160ZM180-400h160v-160H180v160Zm440 0h160v-160H620v160ZM180-180h160v-160H180v160Zm440 0h160v-160H620v160Z\"/>\n",
              "  </svg>\n",
              "    </button>\n",
              "\n",
              "  <style>\n",
              "    .colab-df-container {\n",
              "      display:flex;\n",
              "      gap: 12px;\n",
              "    }\n",
              "\n",
              "    .colab-df-convert {\n",
              "      background-color: #E8F0FE;\n",
              "      border: none;\n",
              "      border-radius: 50%;\n",
              "      cursor: pointer;\n",
              "      display: none;\n",
              "      fill: #1967D2;\n",
              "      height: 32px;\n",
              "      padding: 0 0 0 0;\n",
              "      width: 32px;\n",
              "    }\n",
              "\n",
              "    .colab-df-convert:hover {\n",
              "      background-color: #E2EBFA;\n",
              "      box-shadow: 0px 1px 2px rgba(60, 64, 67, 0.3), 0px 1px 3px 1px rgba(60, 64, 67, 0.15);\n",
              "      fill: #174EA6;\n",
              "    }\n",
              "\n",
              "    .colab-df-buttons div {\n",
              "      margin-bottom: 4px;\n",
              "    }\n",
              "\n",
              "    [theme=dark] .colab-df-convert {\n",
              "      background-color: #3B4455;\n",
              "      fill: #D2E3FC;\n",
              "    }\n",
              "\n",
              "    [theme=dark] .colab-df-convert:hover {\n",
              "      background-color: #434B5C;\n",
              "      box-shadow: 0px 1px 3px 1px rgba(0, 0, 0, 0.15);\n",
              "      filter: drop-shadow(0px 1px 2px rgba(0, 0, 0, 0.3));\n",
              "      fill: #FFFFFF;\n",
              "    }\n",
              "  </style>\n",
              "\n",
              "    <script>\n",
              "      const buttonEl =\n",
              "        document.querySelector('#df-38552ae8-1e4a-4272-8015-07e13ff7827f button.colab-df-convert');\n",
              "      buttonEl.style.display =\n",
              "        google.colab.kernel.accessAllowed ? 'block' : 'none';\n",
              "\n",
              "      async function convertToInteractive(key) {\n",
              "        const element = document.querySelector('#df-38552ae8-1e4a-4272-8015-07e13ff7827f');\n",
              "        const dataTable =\n",
              "          await google.colab.kernel.invokeFunction('convertToInteractive',\n",
              "                                                    [key], {});\n",
              "        if (!dataTable) return;\n",
              "\n",
              "        const docLinkHtml = 'Like what you see? Visit the ' +\n",
              "          '<a target=\"_blank\" href=https://colab.research.google.com/notebooks/data_table.ipynb>data table notebook</a>'\n",
              "          + ' to learn more about interactive tables.';\n",
              "        element.innerHTML = '';\n",
              "        dataTable['output_type'] = 'display_data';\n",
              "        await google.colab.output.renderOutput(dataTable, element);\n",
              "        const docLink = document.createElement('div');\n",
              "        docLink.innerHTML = docLinkHtml;\n",
              "        element.appendChild(docLink);\n",
              "      }\n",
              "    </script>\n",
              "  </div>\n",
              "\n",
              "\n",
              "<div id=\"df-9be5c607-8618-455e-b91f-2cb4ac51cac5\">\n",
              "  <button class=\"colab-df-quickchart\" onclick=\"quickchart('df-9be5c607-8618-455e-b91f-2cb4ac51cac5')\"\n",
              "            title=\"Suggest charts\"\n",
              "            style=\"display:none;\">\n",
              "\n",
              "<svg xmlns=\"http://www.w3.org/2000/svg\" height=\"24px\"viewBox=\"0 0 24 24\"\n",
              "     width=\"24px\">\n",
              "    <g>\n",
              "        <path d=\"M19 3H5c-1.1 0-2 .9-2 2v14c0 1.1.9 2 2 2h14c1.1 0 2-.9 2-2V5c0-1.1-.9-2-2-2zM9 17H7v-7h2v7zm4 0h-2V7h2v10zm4 0h-2v-4h2v4z\"/>\n",
              "    </g>\n",
              "</svg>\n",
              "  </button>\n",
              "\n",
              "<style>\n",
              "  .colab-df-quickchart {\n",
              "      --bg-color: #E8F0FE;\n",
              "      --fill-color: #1967D2;\n",
              "      --hover-bg-color: #E2EBFA;\n",
              "      --hover-fill-color: #174EA6;\n",
              "      --disabled-fill-color: #AAA;\n",
              "      --disabled-bg-color: #DDD;\n",
              "  }\n",
              "\n",
              "  [theme=dark] .colab-df-quickchart {\n",
              "      --bg-color: #3B4455;\n",
              "      --fill-color: #D2E3FC;\n",
              "      --hover-bg-color: #434B5C;\n",
              "      --hover-fill-color: #FFFFFF;\n",
              "      --disabled-bg-color: #3B4455;\n",
              "      --disabled-fill-color: #666;\n",
              "  }\n",
              "\n",
              "  .colab-df-quickchart {\n",
              "    background-color: var(--bg-color);\n",
              "    border: none;\n",
              "    border-radius: 50%;\n",
              "    cursor: pointer;\n",
              "    display: none;\n",
              "    fill: var(--fill-color);\n",
              "    height: 32px;\n",
              "    padding: 0;\n",
              "    width: 32px;\n",
              "  }\n",
              "\n",
              "  .colab-df-quickchart:hover {\n",
              "    background-color: var(--hover-bg-color);\n",
              "    box-shadow: 0 1px 2px rgba(60, 64, 67, 0.3), 0 1px 3px 1px rgba(60, 64, 67, 0.15);\n",
              "    fill: var(--button-hover-fill-color);\n",
              "  }\n",
              "\n",
              "  .colab-df-quickchart-complete:disabled,\n",
              "  .colab-df-quickchart-complete:disabled:hover {\n",
              "    background-color: var(--disabled-bg-color);\n",
              "    fill: var(--disabled-fill-color);\n",
              "    box-shadow: none;\n",
              "  }\n",
              "\n",
              "  .colab-df-spinner {\n",
              "    border: 2px solid var(--fill-color);\n",
              "    border-color: transparent;\n",
              "    border-bottom-color: var(--fill-color);\n",
              "    animation:\n",
              "      spin 1s steps(1) infinite;\n",
              "  }\n",
              "\n",
              "  @keyframes spin {\n",
              "    0% {\n",
              "      border-color: transparent;\n",
              "      border-bottom-color: var(--fill-color);\n",
              "      border-left-color: var(--fill-color);\n",
              "    }\n",
              "    20% {\n",
              "      border-color: transparent;\n",
              "      border-left-color: var(--fill-color);\n",
              "      border-top-color: var(--fill-color);\n",
              "    }\n",
              "    30% {\n",
              "      border-color: transparent;\n",
              "      border-left-color: var(--fill-color);\n",
              "      border-top-color: var(--fill-color);\n",
              "      border-right-color: var(--fill-color);\n",
              "    }\n",
              "    40% {\n",
              "      border-color: transparent;\n",
              "      border-right-color: var(--fill-color);\n",
              "      border-top-color: var(--fill-color);\n",
              "    }\n",
              "    60% {\n",
              "      border-color: transparent;\n",
              "      border-right-color: var(--fill-color);\n",
              "    }\n",
              "    80% {\n",
              "      border-color: transparent;\n",
              "      border-right-color: var(--fill-color);\n",
              "      border-bottom-color: var(--fill-color);\n",
              "    }\n",
              "    90% {\n",
              "      border-color: transparent;\n",
              "      border-bottom-color: var(--fill-color);\n",
              "    }\n",
              "  }\n",
              "</style>\n",
              "\n",
              "  <script>\n",
              "    async function quickchart(key) {\n",
              "      const quickchartButtonEl =\n",
              "        document.querySelector('#' + key + ' button');\n",
              "      quickchartButtonEl.disabled = true;  // To prevent multiple clicks.\n",
              "      quickchartButtonEl.classList.add('colab-df-spinner');\n",
              "      try {\n",
              "        const charts = await google.colab.kernel.invokeFunction(\n",
              "            'suggestCharts', [key], {});\n",
              "      } catch (error) {\n",
              "        console.error('Error during call to suggestCharts:', error);\n",
              "      }\n",
              "      quickchartButtonEl.classList.remove('colab-df-spinner');\n",
              "      quickchartButtonEl.classList.add('colab-df-quickchart-complete');\n",
              "    }\n",
              "    (() => {\n",
              "      let quickchartButtonEl =\n",
              "        document.querySelector('#df-9be5c607-8618-455e-b91f-2cb4ac51cac5 button');\n",
              "      quickchartButtonEl.style.display =\n",
              "        google.colab.kernel.accessAllowed ? 'block' : 'none';\n",
              "    })();\n",
              "  </script>\n",
              "</div>\n",
              "    </div>\n",
              "  </div>\n"
            ],
            "application/vnd.google.colaboratory.intrinsic+json": {
              "type": "dataframe",
              "variable_name": "train_df"
            }
          },
          "metadata": {},
          "execution_count": 9
        }
      ],
      "source": [
        "train_df.head()"
      ]
    },
    {
      "cell_type": "code",
      "execution_count": null,
      "metadata": {
        "id": "VsGKeF6XzReC",
        "colab": {
          "base_uri": "https://localhost:8080/",
          "height": 206
        },
        "outputId": "a9813070-3c53-482e-9570-c4b715dccd22"
      },
      "outputs": [
        {
          "output_type": "execute_result",
          "data": {
            "text/plain": [
              "   label                                               text\n",
              "0      0  I got 'new' tires from them and within two wee...\n",
              "1      0  Don't waste your time.  We had two different p...\n",
              "2      0  All I can say is the worst! We were the only 2...\n",
              "3      0  I have been to this restaurant twice and was d...\n",
              "4      0  Food was NOT GOOD at all! My husband & I ate h..."
            ],
            "text/html": [
              "\n",
              "  <div id=\"df-376ac3fb-ad77-43b5-a0ea-a6f5b291fe61\" class=\"colab-df-container\">\n",
              "    <div>\n",
              "<style scoped>\n",
              "    .dataframe tbody tr th:only-of-type {\n",
              "        vertical-align: middle;\n",
              "    }\n",
              "\n",
              "    .dataframe tbody tr th {\n",
              "        vertical-align: top;\n",
              "    }\n",
              "\n",
              "    .dataframe thead th {\n",
              "        text-align: right;\n",
              "    }\n",
              "</style>\n",
              "<table border=\"1\" class=\"dataframe\">\n",
              "  <thead>\n",
              "    <tr style=\"text-align: right;\">\n",
              "      <th></th>\n",
              "      <th>label</th>\n",
              "      <th>text</th>\n",
              "    </tr>\n",
              "  </thead>\n",
              "  <tbody>\n",
              "    <tr>\n",
              "      <th>0</th>\n",
              "      <td>0</td>\n",
              "      <td>I got 'new' tires from them and within two wee...</td>\n",
              "    </tr>\n",
              "    <tr>\n",
              "      <th>1</th>\n",
              "      <td>0</td>\n",
              "      <td>Don't waste your time.  We had two different p...</td>\n",
              "    </tr>\n",
              "    <tr>\n",
              "      <th>2</th>\n",
              "      <td>0</td>\n",
              "      <td>All I can say is the worst! We were the only 2...</td>\n",
              "    </tr>\n",
              "    <tr>\n",
              "      <th>3</th>\n",
              "      <td>0</td>\n",
              "      <td>I have been to this restaurant twice and was d...</td>\n",
              "    </tr>\n",
              "    <tr>\n",
              "      <th>4</th>\n",
              "      <td>0</td>\n",
              "      <td>Food was NOT GOOD at all! My husband &amp; I ate h...</td>\n",
              "    </tr>\n",
              "  </tbody>\n",
              "</table>\n",
              "</div>\n",
              "    <div class=\"colab-df-buttons\">\n",
              "\n",
              "  <div class=\"colab-df-container\">\n",
              "    <button class=\"colab-df-convert\" onclick=\"convertToInteractive('df-376ac3fb-ad77-43b5-a0ea-a6f5b291fe61')\"\n",
              "            title=\"Convert this dataframe to an interactive table.\"\n",
              "            style=\"display:none;\">\n",
              "\n",
              "  <svg xmlns=\"http://www.w3.org/2000/svg\" height=\"24px\" viewBox=\"0 -960 960 960\">\n",
              "    <path d=\"M120-120v-720h720v720H120Zm60-500h600v-160H180v160Zm220 220h160v-160H400v160Zm0 220h160v-160H400v160ZM180-400h160v-160H180v160Zm440 0h160v-160H620v160ZM180-180h160v-160H180v160Zm440 0h160v-160H620v160Z\"/>\n",
              "  </svg>\n",
              "    </button>\n",
              "\n",
              "  <style>\n",
              "    .colab-df-container {\n",
              "      display:flex;\n",
              "      gap: 12px;\n",
              "    }\n",
              "\n",
              "    .colab-df-convert {\n",
              "      background-color: #E8F0FE;\n",
              "      border: none;\n",
              "      border-radius: 50%;\n",
              "      cursor: pointer;\n",
              "      display: none;\n",
              "      fill: #1967D2;\n",
              "      height: 32px;\n",
              "      padding: 0 0 0 0;\n",
              "      width: 32px;\n",
              "    }\n",
              "\n",
              "    .colab-df-convert:hover {\n",
              "      background-color: #E2EBFA;\n",
              "      box-shadow: 0px 1px 2px rgba(60, 64, 67, 0.3), 0px 1px 3px 1px rgba(60, 64, 67, 0.15);\n",
              "      fill: #174EA6;\n",
              "    }\n",
              "\n",
              "    .colab-df-buttons div {\n",
              "      margin-bottom: 4px;\n",
              "    }\n",
              "\n",
              "    [theme=dark] .colab-df-convert {\n",
              "      background-color: #3B4455;\n",
              "      fill: #D2E3FC;\n",
              "    }\n",
              "\n",
              "    [theme=dark] .colab-df-convert:hover {\n",
              "      background-color: #434B5C;\n",
              "      box-shadow: 0px 1px 3px 1px rgba(0, 0, 0, 0.15);\n",
              "      filter: drop-shadow(0px 1px 2px rgba(0, 0, 0, 0.3));\n",
              "      fill: #FFFFFF;\n",
              "    }\n",
              "  </style>\n",
              "\n",
              "    <script>\n",
              "      const buttonEl =\n",
              "        document.querySelector('#df-376ac3fb-ad77-43b5-a0ea-a6f5b291fe61 button.colab-df-convert');\n",
              "      buttonEl.style.display =\n",
              "        google.colab.kernel.accessAllowed ? 'block' : 'none';\n",
              "\n",
              "      async function convertToInteractive(key) {\n",
              "        const element = document.querySelector('#df-376ac3fb-ad77-43b5-a0ea-a6f5b291fe61');\n",
              "        const dataTable =\n",
              "          await google.colab.kernel.invokeFunction('convertToInteractive',\n",
              "                                                    [key], {});\n",
              "        if (!dataTable) return;\n",
              "\n",
              "        const docLinkHtml = 'Like what you see? Visit the ' +\n",
              "          '<a target=\"_blank\" href=https://colab.research.google.com/notebooks/data_table.ipynb>data table notebook</a>'\n",
              "          + ' to learn more about interactive tables.';\n",
              "        element.innerHTML = '';\n",
              "        dataTable['output_type'] = 'display_data';\n",
              "        await google.colab.output.renderOutput(dataTable, element);\n",
              "        const docLink = document.createElement('div');\n",
              "        docLink.innerHTML = docLinkHtml;\n",
              "        element.appendChild(docLink);\n",
              "      }\n",
              "    </script>\n",
              "  </div>\n",
              "\n",
              "\n",
              "<div id=\"df-d80ca66a-93e0-44eb-b76b-f7026be7eb42\">\n",
              "  <button class=\"colab-df-quickchart\" onclick=\"quickchart('df-d80ca66a-93e0-44eb-b76b-f7026be7eb42')\"\n",
              "            title=\"Suggest charts\"\n",
              "            style=\"display:none;\">\n",
              "\n",
              "<svg xmlns=\"http://www.w3.org/2000/svg\" height=\"24px\"viewBox=\"0 0 24 24\"\n",
              "     width=\"24px\">\n",
              "    <g>\n",
              "        <path d=\"M19 3H5c-1.1 0-2 .9-2 2v14c0 1.1.9 2 2 2h14c1.1 0 2-.9 2-2V5c0-1.1-.9-2-2-2zM9 17H7v-7h2v7zm4 0h-2V7h2v10zm4 0h-2v-4h2v4z\"/>\n",
              "    </g>\n",
              "</svg>\n",
              "  </button>\n",
              "\n",
              "<style>\n",
              "  .colab-df-quickchart {\n",
              "      --bg-color: #E8F0FE;\n",
              "      --fill-color: #1967D2;\n",
              "      --hover-bg-color: #E2EBFA;\n",
              "      --hover-fill-color: #174EA6;\n",
              "      --disabled-fill-color: #AAA;\n",
              "      --disabled-bg-color: #DDD;\n",
              "  }\n",
              "\n",
              "  [theme=dark] .colab-df-quickchart {\n",
              "      --bg-color: #3B4455;\n",
              "      --fill-color: #D2E3FC;\n",
              "      --hover-bg-color: #434B5C;\n",
              "      --hover-fill-color: #FFFFFF;\n",
              "      --disabled-bg-color: #3B4455;\n",
              "      --disabled-fill-color: #666;\n",
              "  }\n",
              "\n",
              "  .colab-df-quickchart {\n",
              "    background-color: var(--bg-color);\n",
              "    border: none;\n",
              "    border-radius: 50%;\n",
              "    cursor: pointer;\n",
              "    display: none;\n",
              "    fill: var(--fill-color);\n",
              "    height: 32px;\n",
              "    padding: 0;\n",
              "    width: 32px;\n",
              "  }\n",
              "\n",
              "  .colab-df-quickchart:hover {\n",
              "    background-color: var(--hover-bg-color);\n",
              "    box-shadow: 0 1px 2px rgba(60, 64, 67, 0.3), 0 1px 3px 1px rgba(60, 64, 67, 0.15);\n",
              "    fill: var(--button-hover-fill-color);\n",
              "  }\n",
              "\n",
              "  .colab-df-quickchart-complete:disabled,\n",
              "  .colab-df-quickchart-complete:disabled:hover {\n",
              "    background-color: var(--disabled-bg-color);\n",
              "    fill: var(--disabled-fill-color);\n",
              "    box-shadow: none;\n",
              "  }\n",
              "\n",
              "  .colab-df-spinner {\n",
              "    border: 2px solid var(--fill-color);\n",
              "    border-color: transparent;\n",
              "    border-bottom-color: var(--fill-color);\n",
              "    animation:\n",
              "      spin 1s steps(1) infinite;\n",
              "  }\n",
              "\n",
              "  @keyframes spin {\n",
              "    0% {\n",
              "      border-color: transparent;\n",
              "      border-bottom-color: var(--fill-color);\n",
              "      border-left-color: var(--fill-color);\n",
              "    }\n",
              "    20% {\n",
              "      border-color: transparent;\n",
              "      border-left-color: var(--fill-color);\n",
              "      border-top-color: var(--fill-color);\n",
              "    }\n",
              "    30% {\n",
              "      border-color: transparent;\n",
              "      border-left-color: var(--fill-color);\n",
              "      border-top-color: var(--fill-color);\n",
              "      border-right-color: var(--fill-color);\n",
              "    }\n",
              "    40% {\n",
              "      border-color: transparent;\n",
              "      border-right-color: var(--fill-color);\n",
              "      border-top-color: var(--fill-color);\n",
              "    }\n",
              "    60% {\n",
              "      border-color: transparent;\n",
              "      border-right-color: var(--fill-color);\n",
              "    }\n",
              "    80% {\n",
              "      border-color: transparent;\n",
              "      border-right-color: var(--fill-color);\n",
              "      border-bottom-color: var(--fill-color);\n",
              "    }\n",
              "    90% {\n",
              "      border-color: transparent;\n",
              "      border-bottom-color: var(--fill-color);\n",
              "    }\n",
              "  }\n",
              "</style>\n",
              "\n",
              "  <script>\n",
              "    async function quickchart(key) {\n",
              "      const quickchartButtonEl =\n",
              "        document.querySelector('#' + key + ' button');\n",
              "      quickchartButtonEl.disabled = true;  // To prevent multiple clicks.\n",
              "      quickchartButtonEl.classList.add('colab-df-spinner');\n",
              "      try {\n",
              "        const charts = await google.colab.kernel.invokeFunction(\n",
              "            'suggestCharts', [key], {});\n",
              "      } catch (error) {\n",
              "        console.error('Error during call to suggestCharts:', error);\n",
              "      }\n",
              "      quickchartButtonEl.classList.remove('colab-df-spinner');\n",
              "      quickchartButtonEl.classList.add('colab-df-quickchart-complete');\n",
              "    }\n",
              "    (() => {\n",
              "      let quickchartButtonEl =\n",
              "        document.querySelector('#df-d80ca66a-93e0-44eb-b76b-f7026be7eb42 button');\n",
              "      quickchartButtonEl.style.display =\n",
              "        google.colab.kernel.accessAllowed ? 'block' : 'none';\n",
              "    })();\n",
              "  </script>\n",
              "</div>\n",
              "    </div>\n",
              "  </div>\n"
            ],
            "application/vnd.google.colaboratory.intrinsic+json": {
              "type": "dataframe",
              "variable_name": "test_df",
              "summary": "{\n  \"name\": \"test_df\",\n  \"rows\": 50000,\n  \"fields\": [\n    {\n      \"column\": \"label\",\n      \"properties\": {\n        \"dtype\": \"number\",\n        \"std\": 1,\n        \"min\": 0,\n        \"max\": 4,\n        \"num_unique_values\": 5,\n        \"samples\": [\n          2,\n          4,\n          1\n        ],\n        \"semantic_type\": \"\",\n        \"description\": \"\"\n      }\n    },\n    {\n      \"column\": \"text\",\n      \"properties\": {\n        \"dtype\": \"string\",\n        \"num_unique_values\": 50000,\n        \"samples\": [\n          \"Came a few days ago for a lease, wasn't sure of size needed, so I guessed, three times! Finally got it right, but hey, the store didn't bat a eye lash when I returned the ones that didn't work, they just asked if I needed help picking out a replacement. \\\\n\\\\nSince my cat has been loosing weight, I could not get the size down, so after my attempts, finally got the small dog size and sure enough it worked. Now to get the cat used to it before we need it. \\\\n\\\\nThis store has everything you could need. They is even a new section by Martha Stewart, everything for you little pet. But her stuffs pricey, a lease from here collection, $19.99, boy that's steep! \\\\n\\\\nThe store is clean, neatly kept, well organized and they have grooming services. The employees were friendly and helpful, they looked like they enjoyed their jobs, and I would make this a regular place.\",\n          \"I chose the 4 Queens for my visit to Las Vegas for several reasons, and I'll admit a good lot of those involved the low price of the room. (Other reasons include the proximity to the Neon Boneyard, the historic old-Vegas reputation of the hotel and the ratings on Trip Advisor.)\\\\n\\\\nHowever, the quality of my room was far below what I expected, or even dreamed was possible.\\\\n\\\\nI have very minimal requirements for hotel rooms; generally I only want them to be clean (not spotless, clean) and relatively safe. Non-smoking is also on the list.\\\\n\\\\nMy room at the 4 Queens was the filthiest hotel room I've ever stayed in.\\\\n\\\\nThere was hair (of the nether-region variety) in the bathtub. In fact, I don't think the shower or bathtub were touched by house cleaning before or during my stay. I don't like to make a fuss so wiped-everything down myself, and was too exhausted to switch rooms on top of that.\\\\n\\\\nEvery surface in the room felt greasy. I'm going to say it was covered in some Pledge-like substance (humor me) to make myself feel better.\\\\n\\\\nThere was an empty packet of Lucky Strike cigarettes behind the one side of the drapes and a lighter on the other when I arrived, and spotted quite easily. This was touted to be a non-smoking room. I left the empty cigarette pack and lighter for the duration of my stay to see of it would be eventually picked-up by the housekeeping staff. \\\\n\\\\nNope; no such luck.\\\\n\\\\nAdditionally, there were cigarette burns in the bedding (which was made of some, scratchy, ugly cheap fabric). Two of the three lamps in the room did not work. At all. The remote did not work. The air conditioner was very, very loud.\\\\n\\\\nI didn't realized that the Academy of Country Music awards we're being held in the city the weekend I stayed, and on the 15th floor, I could hear the awful cover bands from Fremont Street quite clearly. Granted, I should have realized the ACMs were the weekend of my stay, but the noise was a bit ridiculous.\\\\nOh, and the folks staying in the room next door smoked weed every night of my stay. I dare say I could very well have gotten a contact-high the smell was so strong.\\\\n\\\\nLuckily, I take Ambien to sleep, and am dead to the world at night. Even with the Ambien, the world's rattliest, loudest air conditioner, still woke me up several times each night. This is in addition to being woken by the amazingly loud sex the reefer users next door were having. Otherwise there is absolutely no way I would have gotten any rest in this hellhole.\\\\n\\\\nUpdate! I initially wrote this review with one night of my stay remaining. Guess what? It got worse! The country band playing on the street on Saturday night was somehow (defying the laws of sound) louder, and played later into the evening. Once my Reefer Madness neighbors returned to their room at near 4am, they rented several porn movies and acted out scenes from them. This went on until about 8 am. I pounded on the wall twice, called the front desk, and nothing was done! I didn't sleep a wink despite the Ambien.\\\\n\\\\nI finally headed to the airport around 9 am, five hours early for my flight, because the hotel was just that damn bad, and I couldn't stand the filthiness and sleaze any longer.\\\\n\\\\nAbsolutely the worst hotel I've ever stayed in. The only thing that could have made it worse are bed bugs or a fire possibly breaking-out.\",\n          \"I went here on the day of a wedding (I'm from out of town) for a last minute pedicure. I didn't really know where else to go, so I just stopped here on a whim (it was raining and this was the closest place that seemed to do nails). \\\\n\\\\nThe Salon Nuvo nail person is FANTASTIC (and wonderful to chat with). It's two full weeks later and it looks like my pedicure is brand new (and before you ask, I actually used the exact same brand/color nail polish as my prior crap pedicure). They don't have the cool massage chairs and they put you in a weird little intimate back room, HOWEVER I would totally give that up for a beautiful pedicure that lasts this long.  \\\\n\\\\nThought it was worth a review.\"\n        ],\n        \"semantic_type\": \"\",\n        \"description\": \"\"\n      }\n    }\n  ]\n}"
            }
          },
          "metadata": {},
          "execution_count": 10
        }
      ],
      "source": [
        "test_df.head()"
      ]
    },
    {
      "cell_type": "code",
      "execution_count": 7,
      "metadata": {
        "id": "BgE1gzXBCvQC",
        "colab": {
          "base_uri": "https://localhost:8080/"
        },
        "outputId": "c1047c7a-8304-4dc9-c694-e35c41077098"
      },
      "outputs": [
        {
          "output_type": "execute_result",
          "data": {
            "text/plain": [
              "label\n",
              "4    130000\n",
              "1    130000\n",
              "3    130000\n",
              "0    130000\n",
              "2    130000\n",
              "Name: count, dtype: int64"
            ]
          },
          "metadata": {},
          "execution_count": 7
        }
      ],
      "source": [
        "train_df['label'].value_counts()"
      ]
    },
    {
      "cell_type": "code",
      "execution_count": 8,
      "metadata": {
        "id": "v-Q1pgUtDMeD",
        "colab": {
          "base_uri": "https://localhost:8080/"
        },
        "outputId": "71f103aa-b1ed-40c4-caa5-f6aa2803597d"
      },
      "outputs": [
        {
          "output_type": "execute_result",
          "data": {
            "text/plain": [
              "label\n",
              "0    10000\n",
              "2    10000\n",
              "1    10000\n",
              "3    10000\n",
              "4    10000\n",
              "Name: count, dtype: int64"
            ]
          },
          "metadata": {},
          "execution_count": 8
        }
      ],
      "source": [
        "test_df['label'].value_counts()"
      ]
    },
    {
      "cell_type": "markdown",
      "metadata": {
        "id": "dIOgIgoqz6ci"
      },
      "source": [
        "I checked and there is no duplicates in either of the dataframes so we do not have to worry about that"
      ]
    },
    {
      "cell_type": "code",
      "execution_count": 9,
      "metadata": {
        "id": "Tr-ThJhjFFLF",
        "colab": {
          "base_uri": "https://localhost:8080/"
        },
        "outputId": "ad4b0315-d812-40aa-d4ba-5fd571e3367e"
      },
      "outputs": [
        {
          "output_type": "stream",
          "name": "stdout",
          "text": [
            "Average length (in characters) of each document in training data set: 732.3254676923077\n"
          ]
        }
      ],
      "source": [
        "documents = train_df['text']\n",
        "total_lenght = sum(len(doc) for doc in documents)\n",
        "number_documents = len(documents)\n",
        "average_length = total_lenght / number_documents\n",
        "print(\"Average length (in characters) of each document in training data set:\", average_length)"
      ]
    },
    {
      "cell_type": "code",
      "execution_count": 10,
      "metadata": {
        "id": "9xZicCH6Lx4q",
        "colab": {
          "base_uri": "https://localhost:8080/"
        },
        "outputId": "ad94cd64-6511-46f6-f7e0-602ea5e95f45"
      },
      "outputs": [
        {
          "output_type": "stream",
          "name": "stdout",
          "text": [
            "Average length (in characters) of each document in test data set: 733.42376\n"
          ]
        }
      ],
      "source": [
        "documents = test_df['text']\n",
        "total_lenght = sum(len(doc) for doc in documents)\n",
        "number_documents = len(documents)\n",
        "average_length = total_lenght / number_documents\n",
        "print(\"Average length (in characters) of each document in test data set:\", average_length)"
      ]
    },
    {
      "cell_type": "code",
      "execution_count": 11,
      "metadata": {
        "id": "GZEu_7WXNwrO",
        "colab": {
          "base_uri": "https://localhost:8080/"
        },
        "outputId": "86202197-dabe-48e0-e9b8-96c83203fffa"
      },
      "outputs": [
        {
          "metadata": {
            "tags": null
          },
          "name": "stdout",
          "output_type": "stream",
          "text": [
            "Average length (in characters) of each document in test data set for 0 rating: 812.7109\n",
            "Average length (in characters) of each document in test data set for 1 rating: 827.4626\n",
            "Average length (in characters) of each document in test data set for 2 rating: 766.8509\n",
            "Average length (in characters) of each document in test data set for 3 rating: 686.3262\n",
            "Average length (in characters) of each document in test data set for 4 rating: 573.7682\n",
            "\n",
            "Average length (in characters) of each document in train data set for 0 rating: 815.3077615384616\n",
            "Average length (in characters) of each document in train data set for 1 rating: 827.6257923076923\n",
            "Average length (in characters) of each document in train data set for 2 rating: 758.6954538461539\n",
            "Average length (in characters) of each document in train data set for 3 rating: 680.1599846153846\n",
            "Average length (in characters) of each document in train data set for 4 rating: 579.8383461538461\n"
          ]
        }
      ],
      "source": [
        "for i in range(5):\n",
        "  documents_rating = test_df[test_df['label'] == i]['text']\n",
        "  total_lenght = sum(len(doc) for doc in documents_rating)\n",
        "  number_documents = len(documents_rating)\n",
        "  average_length = total_lenght / number_documents\n",
        "  print(f\"Average length (in characters) of each document in test data set for {i} rating:\", average_length)\n",
        "\n",
        "print(\"\")\n",
        "\n",
        "for i in range(5):\n",
        "  documents_rating = train_df[train_df['label'] == i]['text']\n",
        "  total_lenght = sum(len(doc) for doc in documents_rating)\n",
        "  number_documents = len(documents_rating)\n",
        "  average_length = total_lenght / number_documents\n",
        "  print(f\"Average length (in characters) of each document in train data set for {i} rating:\", average_length)"
      ]
    },
    {
      "cell_type": "code",
      "execution_count": null,
      "metadata": {
        "colab": {
          "base_uri": "https://localhost:8080/"
        },
        "id": "YrcOAGPHbkeZ",
        "outputId": "02f7db81-e1cd-4279-f5c5-ea179afecd14"
      },
      "outputs": [
        {
          "output_type": "stream",
          "name": "stderr",
          "text": [
            "[nltk_data] Downloading package punkt to /root/nltk_data...\n",
            "[nltk_data]   Unzipping tokenizers/punkt.zip.\n",
            "[nltk_data] Downloading package stopwords to /root/nltk_data...\n",
            "[nltk_data]   Unzipping corpora/stopwords.zip.\n"
          ]
        }
      ],
      "source": [
        "# Removing stop words, casefolding and tokenize text\n",
        "\n",
        "nltk.download('punkt')\n",
        "nltk.download('stopwords')\n",
        "\n",
        "# Get the list of English stopwords\n",
        "stop_words = set(stopwords.words('english'))\n",
        "\n",
        "# Function to remove stopwords from a list of tokens\n",
        "def remove_stopwords(tokenized_text):\n",
        "    return [word.lower() for word in tokenized_text if word.lower() not in stop_words]\n",
        "\n",
        "# Tokenize the 'text' column in train_df\n",
        "train_df['tokenized_text'] = train_df['text'].apply(word_tokenize)\n",
        "\n",
        "# Remove stopwords from the tokenized text in train_df\n",
        "train_df['cleaned_text'] = train_df['tokenized_text'].apply(remove_stopwords)\n",
        "\n",
        "# Tokenize the 'text' column in test_df\n",
        "test_df['tokenized_text'] = test_df['text'].apply(word_tokenize)\n",
        "\n",
        "# Remove stopwords from the tokenized text in test_df\n",
        "test_df['cleaned_text'] = test_df['tokenized_text'].apply(remove_stopwords)"
      ]
    },
    {
      "cell_type": "code",
      "source": [
        "# Tokenization\n",
        "\n",
        "# Tokenize the 'text' column in train_df\n",
        "train_df['tokenized_text'] = train_df['text'].apply(word_tokenize)\n",
        "\n",
        "# Tokenize the 'text' column in test_df\n",
        "test_df['tokenized_text'] = test_df['text'].apply(word_tokenize)"
      ],
      "metadata": {
        "id": "reqhcbO917RX"
      },
      "execution_count": null,
      "outputs": []
    },
    {
      "cell_type": "code",
      "execution_count": null,
      "metadata": {
        "id": "ixwbxgk72AA9"
      },
      "outputs": [],
      "source": [
        "# Stop word removal + casefolding\n",
        "\n",
        "nltk.download('stopwords')\n",
        "\n",
        "def remove_stopwords(tokenized_text):\n",
        "    return [word.lower() for word in tokenized_text if word.lower() not in stop_words]\n",
        "\n",
        "# Remove stopwords from the tokenized text in train_df\n",
        "train_df['cleaned_text'] = train_df['tokenized_text'].apply(remove_stopwords)\n",
        "\n",
        "# Remove stopwords from the tokenized text in test_df\n",
        "test_df['cleaned_text'] = test_df['tokenized_text'].apply(remove_stopwords)"
      ]
    },
    {
      "cell_type": "code",
      "execution_count": null,
      "metadata": {
        "id": "sNCvPH0wgGIW"
      },
      "outputs": [],
      "source": [
        "documents = train_df['cleaned_text']\n",
        "total_lenght = sum(len(doc) for doc in documents)\n",
        "number_documents = len(documents)\n",
        "average_length = total_lenght / number_documents\n",
        "print(\"Average length (in words) of each document in training data set:\", average_length)"
      ]
    },
    {
      "cell_type": "code",
      "execution_count": null,
      "metadata": {
        "colab": {
          "base_uri": "https://localhost:8080/"
        },
        "id": "1CU5dwiJgPIE",
        "outputId": "efaa266f-bc2d-4b8a-b0e7-bdb71843f570"
      },
      "outputs": [
        {
          "name": "stdout",
          "output_type": "stream",
          "text": [
            "Average length (in words) of each document in test data set: 88.539\n"
          ]
        }
      ],
      "source": [
        "documents = test_df['cleaned_text']\n",
        "total_lenght = sum(len(doc) for doc in documents)\n",
        "number_documents = len(documents)\n",
        "average_length = total_lenght / number_documents\n",
        "print(\"Average length (in words) of each document in test data set:\", average_length)"
      ]
    },
    {
      "cell_type": "code",
      "execution_count": null,
      "metadata": {
        "colab": {
          "base_uri": "https://localhost:8080/",
          "height": 657
        },
        "id": "RLZcjaGBfyOA",
        "outputId": "5250d16a-3c82-43ff-c5c1-0d37e302ec93"
      },
      "outputs": [
        {
          "name": "stdout",
          "output_type": "stream",
          "text": [
            "Average length (in words) of each document in test data set for 0 rating: 96.3365\n",
            "Average length (in words) of each document in test data set for 1 rating: 99.1657\n",
            "Average length (in words) of each document in test data set for 2 rating: 92.9657\n",
            "Average length (in words) of each document in test data set for 3 rating: 83.9916\n",
            "Average length (in words) of each document in test data set for 4 rating: 70.2355\n",
            "\n",
            "Average length (in words) of each document in train data set for 0 rating: 96.80037692307693\n",
            "Average length (in words) of each document in train data set for 1 rating: 99.23755384615384\n",
            "Average length (in words) of each document in train data set for 2 rating: 92.03353076923077\n",
            "Average length (in words) of each document in train data set for 3 rating: 83.26292307692307\n",
            "Average length (in words) of each document in train data set for 4 rating: 70.90173076923077\n"
          ]
        },
        {
          "data": {
            "text/plain": [
              "[<matplotlib.lines.Line2D at 0x7f85060abd60>]"
            ]
          },
          "execution_count": 56,
          "metadata": {},
          "output_type": "execute_result"
        },
        {
          "data": {
            "image/png": "[encoded data removed]",
            "text/plain": [
              "<Figure size 640x480 with 1 Axes>"
            ]
          },
          "metadata": {},
          "output_type": "display_data"
        }
      ],
      "source": [
        "average_lengths_test = []\n",
        "average_lengths_train = []\n",
        "\n",
        "for i in range(5):\n",
        "  documents_rating = test_df[test_df['label'] == i]['cleaned_text']\n",
        "  total_lenght = sum(len(doc) for doc in documents_rating)\n",
        "  number_documents = len(documents_rating)\n",
        "  average_length = total_lenght / number_documents\n",
        "  average_lengths_test.append(average_length)\n",
        "  print(f\"Average length (in words) of each document in test data set for {i} rating:\", average_length)\n",
        "\n",
        "print(\"\")\n",
        "\n",
        "for i in range(5):\n",
        "  documents_rating = train_df[train_df['label'] == i]['cleaned_text']\n",
        "  total_lenght = sum(len(doc) for doc in documents_rating)\n",
        "  number_documents = len(documents_rating)\n",
        "  average_length = total_lenght / number_documents\n",
        "  average_lengths_train.append(average_length)\n",
        "  print(f\"Average length (in words) of each document in train data set for {i} rating:\", average_length)\n",
        "\n",
        "plt.xlabel(\"Star-rating\")\n",
        "plt.ylabel(\"Average number of words in each document\")\n",
        "plt.plot(range(1,6), average_lengths_test,'o')\n",
        "plt.plot(range(1,6), average_lengths_train,'o')\n"
      ]
    },
    {
      "cell_type": "code",
      "execution_count": null,
      "metadata": {
        "colab": {
          "base_uri": "https://localhost:8080/"
        },
        "id": "7-MdhqU0kHGd",
        "outputId": "4d4c5a4a-f1b4-41c7-e2b8-06c7ea647c4e"
      },
      "outputs": [
        {
          "name": "stdout",
          "output_type": "stream",
          "text": [
            "Average vocabulary size per document in training data set: 94.13049538461539\n",
            "Average vocabulary size per document in training data set after removing stopwords: 63.795543076923074\n",
            "Decrease of vocabulary by removing stopwords 32.23 %\n",
            "\n",
            "Average vocabulary size per document in test data set: 94.29884\n",
            "Average vocabulary size per document in test data set after removing stopwords: 63.87132\n",
            "Decrease of vocabulary by removing stopwords 32.27 %\n"
          ]
        }
      ],
      "source": [
        "# Vocabulary size comparision\n",
        "\n",
        "documents = train_df['tokenized_text']\n",
        "total_lenght = sum(len(set(doc)) for doc in documents)\n",
        "number_documents = len(documents)\n",
        "average_length_1 = total_lenght / number_documents\n",
        "print(\"Average vocabulary size per document in training data set:\", average_length_1)\n",
        "\n",
        "documents = train_df['cleaned_text']\n",
        "total_lenght = sum(len(set(doc)) for doc in documents)\n",
        "number_documents = len(documents)\n",
        "average_length_2 = total_lenght / number_documents\n",
        "print(\"Average vocabulary size per document in training data set after removing stopwords:\", average_length_2)\n",
        "\n",
        "print(\"Decrease of vocabulary by removing stopwords\", round((1-average_length_2/average_length_1)*100, 2), '%')\n",
        "\n",
        "print(\"\")\n",
        "\n",
        "documents = test_df['tokenized_text']\n",
        "total_lenght = sum(len(set(doc)) for doc in documents)\n",
        "number_documents = len(documents)\n",
        "average_length_1 = total_lenght / number_documents\n",
        "print(\"Average vocabulary size per document in test data set:\", average_length_1)\n",
        "\n",
        "documents = test_df['cleaned_text']\n",
        "total_lenght = sum(len(set(doc)) for doc in documents)\n",
        "number_documents = len(documents)\n",
        "average_length_2 = total_lenght / number_documents\n",
        "print(\"Average vocabulary size per document in test data set after removing stopwords:\", average_length_2)\n",
        "\n",
        "print(\"Decrease of vocabulary by removing stopwords\", round((1-average_length_2/average_length_1)*100, 2), '%')"
      ]
    },
    {
      "cell_type": "code",
      "execution_count": null,
      "metadata": {
        "id": "uTpCR2NWSL4C"
      },
      "outputs": [],
      "source": []
    },
    {
      "cell_type": "markdown",
      "metadata": {
        "id": "qnNSc6FvuIfS"
      },
      "source": [
        "##Data processing"
      ]
    },
    {
      "cell_type": "markdown",
      "metadata": {
        "id": "mh1eog4puK_c"
      },
      "source": [
        "##Model training"
      ]
    }
  ],
  "metadata": {
    "colab": {
      "provenance": [],
      "include_colab_link": true
    },
    "kernelspec": {
      "display_name": "Python 3",
      "name": "python3"
    },
    "language_info": {
      "name": "python"
    }
  },
  "nbformat": 4,
  "nbformat_minor": 0
}